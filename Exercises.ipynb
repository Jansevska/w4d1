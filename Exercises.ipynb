{
 "cells": [
  {
   "cell_type": "code",
   "execution_count": 11,
   "metadata": {},
   "outputs": [],
   "source": [
    "import re"
   ]
  },
  {
   "cell_type": "markdown",
   "metadata": {},
   "source": [
    "### Exercise 1"
   ]
  },
  {
   "cell_type": "markdown",
   "metadata": {},
   "source": [
    "Write a function that takes in a tweet and returns a list of the hashtags in the tweet<br>\n",
    "Ex. 1<br>\n",
    "tweet = \"Python is the best #Python #Programming #CodingTemple\"<br>\n",
    "Expected Output: [\"#Python\", \"#Programming\", \"#CodingTemple\"]<br>\n",
    "\n",
    "Ex. 2<br>\n",
    "tweet = \"I love my life! #blessed\"<br>\n",
    "Expected Output: [\"#bleesed\"]<br>\n",
    "\n",
    "Ex. 3<br>\n",
    "tweet = \"Bear Down\"<br>\n",
    "Expected Output: []<br>\n"
   ]
  },
  {
   "cell_type": "code",
   "execution_count": 29,
   "metadata": {},
   "outputs": [
    {
     "name": "stdout",
     "output_type": "stream",
     "text": [
      "['#Python', '#Programming', '#CodingTemple']\n",
      "['#blessed']\n",
      "[]\n"
     ]
    }
   ],
   "source": [
    "tweet1 = \"Python is the best #Python #Programming #CodingTemple\"\n",
    "tweet2 = \"I love my life! #blessed\"\n",
    "tweet3 = \"Bear Down\"\n",
    "\n",
    "hashtag_pattern = re.compile('#\\w+')\n",
    "valid_hashtags = hashtag_pattern.findall(tweet1)\n",
    "print(valid_hashtags)\n",
    "valid_hashtags = hashtag_pattern.findall(tweet2)\n",
    "print(valid_hashtags)\n",
    "valid_hashtags = hashtag_pattern.findall(tweet3)\n",
    "print(valid_hashtags)\n",
    "\n",
    "    "
   ]
  },
  {
   "cell_type": "markdown",
   "metadata": {},
   "source": [
    "### Exercise 2"
   ]
  },
  {
   "cell_type": "markdown",
   "metadata": {},
   "source": [
    "Write a function that takes in a string and returns it is a Strong password or not. A strong password is at least 8 characters, contains at least one uppercase letter, one lowercase letter, one digit, and one special character (!@#$%^&*)<br>\n",
    "Ex. 1 <br>\n",
    "password = \"CodingTemple123!\"<br>\n",
    "Expected Output: True<br>\n",
    "\n",
    "Ex. 2 <br>\n",
    "password = \"password\"<br>\n",
    "Expected Output: False<br>\n",
    "\n",
    "Ex. 3 <br>\n",
    "password = \"@Bc12\"<br>\n",
    "Expected Output: False<br>"
   ]
  },
  {
   "cell_type": "code",
   "execution_count": 41,
   "metadata": {
    "scrolled": true
   },
   "outputs": [
    {
     "ename": "NameError",
     "evalue": "name 'passowords' is not defined",
     "output_type": "error",
     "traceback": [
      "\u001b[1;31m---------------------------------------------------------------------------\u001b[0m",
      "\u001b[1;31mNameError\u001b[0m                                 Traceback (most recent call last)",
      "Cell \u001b[1;32mIn[41], line 13\u001b[0m\n\u001b[0;32m     11\u001b[0m     \u001b[38;5;28;01melse\u001b[39;00m:\n\u001b[0;32m     12\u001b[0m         \u001b[38;5;28;01mreturn\u001b[39;00m \u001b[38;5;28;01mFalse\u001b[39;00m\n\u001b[1;32m---> 13\u001b[0m \u001b[38;5;28;01mfor\u001b[39;00m password \u001b[38;5;129;01min\u001b[39;00m passowords:\n\u001b[0;32m     14\u001b[0m     \u001b[38;5;28;01mif\u001b[39;00m valid_password(password):\n\u001b[0;32m     15\u001b[0m         \u001b[38;5;28mprint\u001b[39m(password)\n",
      "\u001b[1;31mNameError\u001b[0m: name 'passowords' is not defined"
     ]
    }
   ],
   "source": [
    "passwords = [\"CodingTemple123!\", \"password\", \"@Bc12\"]\n",
    "# password2 = \"password\"\n",
    "# password3 = \"@Bc12\"\n",
    "\n",
    "strong_password = re.compile('[A-z]+\\w+\\W\\d+\\#@^%&*_-><`~!{8,}')\n",
    "\n",
    "def valid_password(passwords):\n",
    "    strong_password = re.compile('\\w\\w+\\W\\d+\\#@^%&*_-><`~!{8,}')\n",
    "    if strong_password.match(passwords):\n",
    "        return True\n",
    "    else:\n",
    "        return False\n",
    "for password in passowords:\n",
    "    if valid_password(password):\n",
    "        print(password)"
   ]
  },
  {
   "cell_type": "markdown",
   "metadata": {},
   "source": [
    "### Exercise 3"
   ]
  },
  {
   "cell_type": "markdown",
   "metadata": {},
   "source": [
    "Using the Python `open()` function, read in the `example.txt` file (attached in Google Classroom, make sure it is in the same folder as this notebook). Create a pattern that will find all of the dates in the text. Dates are in the format of YYYY-MM-DD. The pattern should have groups for year, month, and day. Using the `.finditer()` method, iterate over the dates and print in format of month/day/year<br>"
   ]
  },
  {
   "cell_type": "markdown",
   "metadata": {},
   "source": [
    "Output:\n",
    "```\n",
    "05/15/1990\n",
    "09/20/2015\n",
    "12/03/1985\n",
    "06/18/2010\n",
    "11/30/2002\n",
    "08/10/1978\n",
    "04/25/1992\n",
    "07/07/2019\n",
    "02/12/1980\n",
    "03/22/2005\n",
    "```"
   ]
  },
  {
   "cell_type": "code",
   "execution_count": 42,
   "metadata": {},
   "outputs": [
    {
     "name": "stdout",
     "output_type": "stream",
     "text": [
      "Daniel Martinez was born on 1990-05-15. He later married Elizabeth Anderson on 2015-09-20.\n",
      "\n",
      "Alice Johnson's birthdate is 1985-12-03, and she got her degree on 2010-06-18.\n",
      "\n",
      "Michael Brown's graduation date is 2002-11-30. He celebrated his birthday on 1978-08-10.\n",
      "\n",
      "Emily Wilson was born on 1992-04-25. She completed her Ph.D. on 2019-07-07.\n",
      "\n",
      "Sarah Clark's birthdate is 1980-02-12. She joined the company on 2005-03-22.\n",
      "\n",
      "\n"
     ]
    }
   ],
   "source": [
    "with open('example.txt') as new_file:\n",
    "    data = new_file.read()\n",
    "    print(data)"
   ]
  },
  {
   "cell_type": "code",
   "execution_count": 50,
   "metadata": {},
   "outputs": [
    {
     "data": {
      "text/plain": [
       "['Daniel Martinez was born on 1990-05-15. He later married Elizabeth Anderson on 2015-09-20.\\n',\n",
       " '\\n',\n",
       " \"Alice Johnson's birthdate is 1985-12-03, and she got her degree on 2010-06-18.\\n\",\n",
       " '\\n',\n",
       " \"Michael Brown's graduation date is 2002-11-30. He celebrated his birthday on 1978-08-10.\\n\",\n",
       " '\\n',\n",
       " 'Emily Wilson was born on 1992-04-25. She completed her Ph.D. on 2019-07-07.\\n',\n",
       " '\\n',\n",
       " \"Sarah Clark's birthdate is 1980-02-12. She joined the company on 2005-03-22.\\n\",\n",
       " '\\n']"
      ]
     },
     "execution_count": 50,
     "metadata": {},
     "output_type": "execute_result"
    }
   ],
   "source": [
    "with open('example.txt') as new_file:\n",
    "    data_list = new_file.readlines()\n",
    "data_list"
   ]
  },
  {
   "cell_type": "code",
   "execution_count": 54,
   "metadata": {},
   "outputs": [
    {
     "ename": "TypeError",
     "evalue": "expected string or bytes-like object, got 'list'",
     "output_type": "error",
     "traceback": [
      "\u001b[1;31m---------------------------------------------------------------------------\u001b[0m",
      "\u001b[1;31mTypeError\u001b[0m                                 Traceback (most recent call last)",
      "Cell \u001b[1;32mIn[54], line 2\u001b[0m\n\u001b[0;32m      1\u001b[0m find_text \u001b[38;5;241m=\u001b[39m re\u001b[38;5;241m.\u001b[39mcompile(\u001b[38;5;124m'\u001b[39m\u001b[38;5;124m(?P<year>[0-9]\u001b[39m\u001b[38;5;132;01m{4}\u001b[39;00m\u001b[38;5;124m) [-] (?P<month>[0-9]\u001b[39m\u001b[38;5;132;01m{2}\u001b[39;00m\u001b[38;5;124m) [-] (?P<day>[0-9]\u001b[39m\u001b[38;5;132;01m{2}\u001b[39;00m\u001b[38;5;124m)\u001b[39m\u001b[38;5;124m'\u001b[39m)\n\u001b[1;32m----> 2\u001b[0m match \u001b[38;5;241m=\u001b[39m re\u001b[38;5;241m.\u001b[39msearch(find_text, data_list)\n\u001b[0;32m      3\u001b[0m \u001b[38;5;28;01mif\u001b[39;00m match:\n\u001b[0;32m      4\u001b[0m     \u001b[38;5;28mprint\u001b[39m(find_text)\n",
      "File \u001b[1;32m~\\anaconda3\\Lib\\re\\__init__.py:176\u001b[0m, in \u001b[0;36msearch\u001b[1;34m(pattern, string, flags)\u001b[0m\n\u001b[0;32m    173\u001b[0m \u001b[38;5;28;01mdef\u001b[39;00m \u001b[38;5;21msearch\u001b[39m(pattern, string, flags\u001b[38;5;241m=\u001b[39m\u001b[38;5;241m0\u001b[39m):\n\u001b[0;32m    174\u001b[0m \u001b[38;5;250m    \u001b[39m\u001b[38;5;124;03m\"\"\"Scan through string looking for a match to the pattern, returning\u001b[39;00m\n\u001b[0;32m    175\u001b[0m \u001b[38;5;124;03m    a Match object, or None if no match was found.\"\"\"\u001b[39;00m\n\u001b[1;32m--> 176\u001b[0m     \u001b[38;5;28;01mreturn\u001b[39;00m _compile(pattern, flags)\u001b[38;5;241m.\u001b[39msearch(string)\n",
      "\u001b[1;31mTypeError\u001b[0m: expected string or bytes-like object, got 'list'"
     ]
    }
   ],
   "source": [
    "find_text = re.compile('(?P<year>[0-9]{4}) [-] (?P<month>[0-9]{2}) [-] (?P<day>[0-9]{2})')\n",
    "match = re.search(find_text, data_list)\n",
    "if match:\n",
    "    print(find_text)"
   ]
  },
  {
   "cell_type": "code",
   "execution_count": 49,
   "metadata": {},
   "outputs": [
    {
     "ename": "SyntaxError",
     "evalue": "unterminated string literal (detected at line 2) (2391894617.py, line 2)",
     "output_type": "error",
     "traceback": [
      "\u001b[1;36m  Cell \u001b[1;32mIn[49], line 2\u001b[1;36m\u001b[0m\n\u001b[1;33m    print(f\"{date_pattern.group(month)}/{date_pattern.group(day)/{date_pattern.group(year)}}\u001b[0m\n\u001b[1;37m          ^\u001b[0m\n\u001b[1;31mSyntaxError\u001b[0m\u001b[1;31m:\u001b[0m unterminated string literal (detected at line 2)\n"
     ]
    }
   ],
   "source": [
    "\n",
    "date_pattern_ = re.compile('(?P<year>[0-9]{4}) [-] (?P<month>[0-9]{2}) [-] (?P<day>[0-9]{2})')\n",
    "\n",
    "for line in data_list:\n",
    "print(f\"{date_pattern.group(month)}/{date_pattern.group(day)/{date_pattern.group(year)}}"
   ]
  },
  {
   "cell_type": "code",
   "execution_count": null,
   "metadata": {},
   "outputs": [],
   "source": [
    "for date in date_pattern.finditer(data)"
   ]
  }
 ],
 "metadata": {
  "kernelspec": {
   "display_name": "Python 3 (ipykernel)",
   "language": "python",
   "name": "python3"
  },
  "language_info": {
   "codemirror_mode": {
    "name": "ipython",
    "version": 3
   },
   "file_extension": ".py",
   "mimetype": "text/x-python",
   "name": "python",
   "nbconvert_exporter": "python",
   "pygments_lexer": "ipython3",
   "version": "3.11.4"
  }
 },
 "nbformat": 4,
 "nbformat_minor": 4
}
